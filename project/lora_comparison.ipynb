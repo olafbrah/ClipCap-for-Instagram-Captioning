{
 "cells": [
  {
   "cell_type": "markdown",
   "source": [
    "# LoRA Comparison"
   ],
   "metadata": {
    "collapsed": false
   }
  },
  {
   "cell_type": "code",
   "execution_count": 4,
   "outputs": [],
   "source": [
    "import clip\n",
    "import torch\n",
    "from clip_model import CaptionModel\n",
    "from dataset import InstagramDataset\n",
    "from base_finetune import fine_tune\n",
    "from transformers import GPT2Tokenizer"
   ],
   "metadata": {
    "collapsed": false
   }
  },
  {
   "cell_type": "markdown",
   "source": [
    "## Define BLEU Score (directly from pytorch implementation)"
   ],
   "metadata": {
    "collapsed": false
   }
  },
  {
   "cell_type": "code",
   "execution_count": 6,
   "outputs": [],
   "source": [
    "import torch\n",
    "import collections\n",
    "import math\n",
    "\n",
    "def ngrams_iterator(token_list, ngrams):\n",
    "\n",
    "    def _get_ngrams(n):\n",
    "        return zip(*[token_list[i:] for i in range(n)])\n",
    "\n",
    "    for x in token_list:\n",
    "        yield x\n",
    "    for n in range(2, ngrams + 1):\n",
    "        for x in _get_ngrams(n):\n",
    "            yield \" \".join(x)\n",
    "\n",
    "def _compute_ngram_counter(tokens, max_n):\n",
    "    assert max_n > 0\n",
    "    ngrams_counter = collections.Counter(tuple(x.split(\" \")) for x in ngrams_iterator(tokens, max_n))\n",
    "\n",
    "    return ngrams_counter\n",
    "\n",
    "\n",
    "def bleu_score(candidate_corpus, references_corpus, max_n=4, weights=[0.25] * 4):\n",
    "\n",
    "\n",
    "    assert max_n == len(weights), 'Length of the \"weights\" list has be equal to max_n'\n",
    "    assert len(candidate_corpus) == len(\n",
    "        references_corpus\n",
    "    ), \"The length of candidate and reference corpus should be the same\"\n",
    "\n",
    "    clipped_counts = torch.zeros(max_n)\n",
    "    total_counts = torch.zeros(max_n)\n",
    "    weights = torch.tensor(weights)\n",
    "\n",
    "    candidate_len = 0.0\n",
    "    refs_len = 0.0\n",
    "\n",
    "    for (candidate, refs) in zip(candidate_corpus, references_corpus):\n",
    "        current_candidate_len = len(candidate)\n",
    "        candidate_len += current_candidate_len\n",
    "\n",
    "        # Get the length of the reference that's closest in length to the candidate\n",
    "        refs_len_list = [float(len(ref)) for ref in refs]\n",
    "        refs_len += min(refs_len_list, key=lambda x: abs(current_candidate_len - x))\n",
    "\n",
    "        reference_counters = _compute_ngram_counter(refs[0], max_n)\n",
    "        for ref in refs[1:]:\n",
    "            reference_counters = reference_counters | _compute_ngram_counter(ref, max_n)\n",
    "\n",
    "        candidate_counter = _compute_ngram_counter(candidate, max_n)\n",
    "\n",
    "        clipped_counter = candidate_counter & reference_counters\n",
    "\n",
    "        for ngram, count in clipped_counter.items():\n",
    "            clipped_counts[len(ngram) - 1] += count\n",
    "\n",
    "        for i in range(max_n):\n",
    "            # The number of N-grams in a `candidate` of T tokens is `T - (N - 1)`\n",
    "            total_counts[i] += max(current_candidate_len - i, 0)\n",
    "\n",
    "    if min(clipped_counts) == 0:\n",
    "        return 0.0\n",
    "    else:\n",
    "        pn = clipped_counts / total_counts\n",
    "        log_pn = weights * torch.log(pn)\n",
    "        score = torch.exp(sum(log_pn))\n",
    "\n",
    "        bp = math.exp(min(1 - refs_len / candidate_len, 0))\n",
    "\n",
    "        return bp * score.item()"
   ],
   "metadata": {
    "collapsed": false
   }
  },
  {
   "cell_type": "markdown",
   "source": [],
   "metadata": {
    "collapsed": false
   }
  },
  {
   "cell_type": "code",
   "execution_count": null,
   "outputs": [],
   "source": [],
   "metadata": {
    "collapsed": false
   }
  }
 ],
 "metadata": {
  "kernelspec": {
   "display_name": "Python 3",
   "language": "python",
   "name": "python3"
  },
  "language_info": {
   "codemirror_mode": {
    "name": "ipython",
    "version": 2
   },
   "file_extension": ".py",
   "mimetype": "text/x-python",
   "name": "python",
   "nbconvert_exporter": "python",
   "pygments_lexer": "ipython2",
   "version": "2.7.6"
  }
 },
 "nbformat": 4,
 "nbformat_minor": 0
}
